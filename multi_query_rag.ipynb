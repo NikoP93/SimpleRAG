{
 "cells": [
  {
   "cell_type": "markdown",
   "metadata": {},
   "source": [
    "Packages"
   ]
  },
  {
   "cell_type": "code",
   "execution_count": 29,
   "metadata": {},
   "outputs": [],
   "source": [
    "#! pip install langchain_community tiktoken langchain-openai langchainhub chromadb langchain langchain-mistralai\n",
    "#! pip install beautifulsoup4\n",
    "#! pip install python-dotenv"
   ]
  },
  {
   "cell_type": "code",
   "execution_count": 30,
   "metadata": {},
   "outputs": [
    {
     "data": {
      "text/plain": [
       "True"
      ]
     },
     "execution_count": 30,
     "metadata": {},
     "output_type": "execute_result"
    }
   ],
   "source": [
    "from dotenv import load_dotenv\n",
    "import os\n",
    "load_dotenv()"
   ]
  },
  {
   "cell_type": "markdown",
   "metadata": {},
   "source": [
    "Langsmith"
   ]
  },
  {
   "cell_type": "code",
   "execution_count": 31,
   "metadata": {},
   "outputs": [],
   "source": [
    "os.environ['LANGCHAIN_TRACING_V2'] = 'true'\n",
    "os.environ['LANGCHAIN_ENDPOINT'] = 'https://api.smith.langchain.com'\n",
    "os.environ['LANGSMITH_PROJECT'] = \"Multi_query_rag\""
   ]
  },
  {
   "cell_type": "markdown",
   "metadata": {},
   "source": [
    "API Keys"
   ]
  },
  {
   "cell_type": "code",
   "execution_count": 32,
   "metadata": {},
   "outputs": [],
   "source": [
    "LANGCHAIN_API_KEY = os.environ['LANGCHAIN_API_KEY']\n",
    "MISTAL_API_KEY = os.environ['MISTRAL_API_KEY']\n",
    "OPENAI_API_KEY = os.environ['OPENAI_API_KEY']\n",
    "#os.environ['HF_TOKEN']"
   ]
  },
  {
   "cell_type": "markdown",
   "metadata": {},
   "source": [
    "Imports"
   ]
  },
  {
   "cell_type": "code",
   "execution_count": 33,
   "metadata": {},
   "outputs": [],
   "source": [
    "import bs4\n",
    "import tiktoken\n",
    "from langchain import hub\n",
    "from langchain.text_splitter import RecursiveCharacterTextSplitter\n",
    "from langchain_community.document_loaders import WebBaseLoader\n",
    "from langchain_community.vectorstores import Chroma\n",
    "from langchain_core.output_parsers import StrOutputParser\n",
    "from langchain_core.runnables import RunnablePassthrough\n",
    "from langchain_openai import ChatOpenAI, OpenAIEmbeddings\n",
    "from langchain_mistralai.chat_models import ChatMistralAI\n",
    "from langchain_mistralai import MistralAIEmbeddings\n",
    "from langchain.prompts import ChatPromptTemplate"
   ]
  },
  {
   "cell_type": "markdown",
   "metadata": {},
   "source": [
    "Loading"
   ]
  },
  {
   "cell_type": "code",
   "execution_count": 34,
   "metadata": {},
   "outputs": [],
   "source": [
    "#Loading a document\n",
    "#Function takes documents and loads them.\n",
    "#The parse only can change, depends on the html on what you are trying to load\n",
    "loader = WebBaseLoader (\n",
    "    web_paths = ('https://en.wikipedia.org/wiki/Ultimate_Fighting_Championship',),\n",
    "    bs_kwargs=dict(\n",
    "        parse_only=bs4.SoupStrainer('body')\n",
    "    ),\n",
    ")\n",
    "blog_docs = loader.load()"
   ]
  },
  {
   "cell_type": "markdown",
   "metadata": {},
   "source": [
    "Splitting"
   ]
  },
  {
   "cell_type": "code",
   "execution_count": 35,
   "metadata": {},
   "outputs": [],
   "source": [
    "#Splitting the document in to chunks \n",
    "text_splitter = RecursiveCharacterTextSplitter.from_tiktoken_encoder(\n",
    "    chunk_size = 1000,\n",
    "    chunk_overlap =200)\n",
    "\n",
    "#Make splits\n",
    "splits = text_splitter.split_documents(blog_docs)"
   ]
  },
  {
   "cell_type": "markdown",
   "metadata": {},
   "source": [
    "Indexing"
   ]
  },
  {
   "cell_type": "code",
   "execution_count": 37,
   "metadata": {},
   "outputs": [
    {
     "name": "stderr",
     "output_type": "stream",
     "text": [
      "c:\\Users\\nikol\\Datamatiker\\4.Semester\\Python\\SimpleRAG\\.venv\\Lib\\site-packages\\langchain_mistralai\\embeddings.py:181: UserWarning: Could not download mistral tokenizer from Huggingface for calculating batch sizes. Set a Huggingface token via the HF_TOKEN environment variable to download the real tokenizer. Falling back to a dummy tokenizer that uses `len()`.\n",
      "  warnings.warn(\n"
     ]
    }
   ],
   "source": [
    "#Uses MistralAIEmbeddings\n",
    "#Embeds the chunks and saves them in the Chroma Vector DB\n",
    "#Index\n",
    "\n",
    "\n",
    "vectorstorage = Chroma.from_documents(documents=splits,\n",
    "                                      embedding=MistralAIEmbeddings())\n",
    "#Retriver object\n",
    "retriver = vectorstorage.as_retriever()"
   ]
  },
  {
   "cell_type": "markdown",
   "metadata": {},
   "source": [
    "Query Translation -- Multi Query Prompting "
   ]
  },
  {
   "cell_type": "code",
   "execution_count": 38,
   "metadata": {},
   "outputs": [],
   "source": [
    "from langchain.load import dumps, loads\n",
    "from operator import itemgetter\n",
    "\n",
    "#Multi query prompt:\n",
    "\n",
    "template = \"\"\"You are an AI language model assistant. Your task is to generate five\n",
    "different versions of the given user question to retrieve relevant documents from a vector \n",
    "database. By generating multiple perspectives on the user question, your goal is to help\n",
    "the user overcome some of the limitations of the distance-based similarity search. \n",
    "Provide these alternative questions separated by newlines. Original question: {question} \n",
    "\"\"\"\n",
    "\n",
    "prompt_perspectives = ChatPromptTemplate.from_template(template)\n",
    "\n",
    "llm = ChatMistralAI(temperature=0,model_name='mistral-large-latest')\n",
    "#llm = ChatOpenAI(temperature=0, model='gpt-4o-mini') \n",
    "\n",
    "#Parsing the prompt to our LLM\n",
    "#Parse it to a string and split the string in new lines\n",
    "\n",
    "generate_queries = (\n",
    "    prompt_perspectives \n",
    "    | llm\n",
    "    | StrOutputParser() \n",
    "    | (lambda x: x.split(\"\\n\"))\n",
    ")"
   ]
  },
  {
   "cell_type": "markdown",
   "metadata": {},
   "source": [
    "Retrieving"
   ]
  },
  {
   "cell_type": "code",
   "execution_count": 39,
   "metadata": {},
   "outputs": [
    {
     "data": {
      "text/plain": [
       "8"
      ]
     },
     "execution_count": 39,
     "metadata": {},
     "output_type": "execute_result"
    }
   ],
   "source": [
    "#take the unique union of documents across those retrievels (get_unique_union)\n",
    "\n",
    "def get_unique_union(documents: list[list]):\n",
    "    \"\"\" Unique union of retrieved docs \"\"\"\n",
    "    \n",
    "    # Flatten list of lists, and convert each Document to string\n",
    "    flattened_docs = [dumps(doc) for sublist in documents for doc in sublist]\n",
    "    \n",
    "    # Get unique documents\n",
    "    unique_docs = list(set(flattened_docs))\n",
    "    \n",
    "    # Return\n",
    "    return [loads(doc) for doc in unique_docs]\n",
    "\n",
    "#Retrieve\n",
    "\n",
    "#Retrieval chain - We take the list from our generate_queries above\n",
    "#Apply each question to a retriever (retriever.map)\n",
    "\n",
    "question = \"What would be the best heavyweight matchup and why\"\n",
    "retrieval_chain = generate_queries | retriver.map() | get_unique_union\n",
    "docs = retrieval_chain.invoke({\"question\":question})\n",
    "len(docs)"
   ]
  },
  {
   "cell_type": "markdown",
   "metadata": {},
   "source": [
    "Final RAG prompt"
   ]
  },
  {
   "cell_type": "code",
   "execution_count": 40,
   "metadata": {},
   "outputs": [
    {
     "data": {
      "text/plain": [
       "\"Based on the provided context, the best heavyweight matchup would be between Jon Jones and Tom Aspinall. Here's why:\\n\\n1. **Champion vs. Interim Champion**: Jon Jones is the current Heavyweight Champion, while Tom Aspinall is the Interim Heavyweight Champion. A fight between them would be a title unification bout, which are always highly anticipated and significant.\\n\\n2. **Rankings**: Both fighters are ranked in the top 10 of the men's pound-for-pound rankings as of January 21, 2025. Jon Jones is ranked #2 and Tom Aspinall is ranked #8. This indicates that they are both considered among the best fighters in the UFC, regardless of weight class.\\n\\n3. **Win Streak**: Both fighters have impressive win streaks. Jon Jones has a win streak of 6, while Tom Aspinall has a win streak of 3. This suggests that both fighters are in good form and a fight between them would be competitive.\\n\\n4. **Potential for Excitement**: Both fighters have a history of exciting fights. Jon Jones is known for his striking and grappling skills, while Tom Aspinall is known for his knockout power. This matchup could potentially be a very exciting fight for fans.\\n\\n5. **Storyline**: Jon Jones is widely considered one of the greatest fighters of all time, while Tom Aspinall is a rising star in the heavyweight division. A fight between them would have an interesting narrative of the established champion facing off against the up-and-coming contender.\""
      ]
     },
     "execution_count": 40,
     "metadata": {},
     "output_type": "execute_result"
    }
   ],
   "source": [
    "#Final Raq Prompt\n",
    "\n",
    "template = \"\"\" Answer the following question based on this context:\n",
    "\n",
    "{context}\n",
    "\n",
    "Question: {question}\n",
    "\"\"\"\n",
    "\n",
    "prompt = ChatPromptTemplate.from_template(template)\n",
    "\n",
    "llm = ChatMistralAI(temperature=0,model_name='mistral-large-latest')\n",
    "\n",
    "#Take retrievel chain from above, and pass it in to context in our RAG prompt\n",
    "#Pass the question to out RAG prompt\n",
    "#Pass it to an LLM\n",
    "#Parse the output\n",
    "\n",
    "final_rag_chain = (\n",
    "    {\"context\": retrieval_chain, \n",
    "     \"question\": itemgetter(\"question\")} \n",
    "    | prompt\n",
    "    | llm\n",
    "    | StrOutputParser()\n",
    ")\n",
    "\n",
    "final_rag_chain.invoke({\"question\":question})"
   ]
  }
 ],
 "metadata": {
  "kernelspec": {
   "display_name": ".venv",
   "language": "python",
   "name": "python3"
  },
  "language_info": {
   "codemirror_mode": {
    "name": "ipython",
    "version": 3
   },
   "file_extension": ".py",
   "mimetype": "text/x-python",
   "name": "python",
   "nbconvert_exporter": "python",
   "pygments_lexer": "ipython3",
   "version": "3.13.1"
  }
 },
 "nbformat": 4,
 "nbformat_minor": 2
}
